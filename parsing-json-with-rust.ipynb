{
 "cells": [
  {
   "cell_type": "markdown",
   "metadata": {},
   "source": [
    "# parsing-json-with-rust"
   ]
  },
  {
   "cell_type": "markdown",
   "metadata": {},
   "source": [
    "## FROM HERE\n",
    "\n",
    "- [tutorial parsing json with rust](https://whoisryosuke.com/blog/2022/parsing-json-with-rust)"
   ]
  },
  {
   "cell_type": "markdown",
   "metadata": {},
   "source": [
    "## init project\n",
    "\n",
    "```bash\n",
    "cd ~ # goto home\n",
    "mkdir test_rust_serde && cd $_\n",
    "cargo init .\n",
    "cargo add serde\n",
    "cargo add serde_json\n",
    "\n",
    "```"
   ]
  },
  {
   "cell_type": "markdown",
   "metadata": {},
   "source": [
    "## Hello serde\n",
    "\n",
    "- create src/parser.rs\n",
    "\n",
    "\n",
    "```rust\n",
    "use serde_json::{Result, Value};\n",
    "\n",
    "pub fn untyped_example() -> Result<()> {\n",
    "    // Some JSON input data as a &str. Maybe this comes from the user.\n",
    "    let data = r#\"\n",
    "        {\n",
    "            \"name\": \"John Doe\",\n",
    "            \"age\": 43,\n",
    "            \"phones\": [\n",
    "                \"+44 1234567\",\n",
    "                \"+44 2345678\"\n",
    "            ]\n",
    "        }\"#;\n",
    "\n",
    "    // Parse the string of data into serde_json::Value.\n",
    "    let v: Value = serde_json::from_str(data)?;\n",
    "\n",
    "    // Access parts of the data by indexing with square brackets.\n",
    "    println!(\"Please call {} at the number {}\", v[\"name\"], v[\"phones\"][0]);\n",
    "\n",
    "    Ok(())\n",
    "}\n",
    "\n",
    "```\n",
    "\n",
    "- create src/main.rs\n",
    "\n",
    "```rust\n",
    "// \"Import\" anything public in the parser module\n",
    "pub mod parser;\n",
    "\n",
    "fn main() {\n",
    "    println!(\"Hello, world!\");\n",
    "\n",
    "    // Parse the JSON\n",
    "    let result = parser::untyped_example();\n",
    "\n",
    "    // Handle errors from the parser if any\n",
    "    match result {\n",
    "        Ok(result) => (),\n",
    "        Err(error) => print!(\"{}\", error),\n",
    "    }\n",
    "}\n",
    "```"
   ]
  },
  {
   "cell_type": "markdown",
   "metadata": {},
   "source": [
    "- build and run\n",
    "\n",
    "```bash\n",
    "\n",
    "cargo build\n",
    "\n",
    "```"
   ]
  },
  {
   "cell_type": "markdown",
   "metadata": {},
   "source": [
    "## load from local file\n",
    "\n",
    "- test json file => data/test.json\n",
    "    - create it inside project folder\n",
    "\n",
    "```bash\n",
    "mkdir data\n",
    "touch data/test.json\n",
    "```\n",
    "\n",
    "    - content of data/test.json\n",
    "\n",
    "```json\n",
    "{\n",
    "  \"name\": \"John Doe\",\n",
    "  \"age\": 43,\n",
    "  \"phones\": [\"+44 1234567\", \"+44 2345678\"]\n",
    "}\n",
    "```"
   ]
  },
  {
   "cell_type": "markdown",
   "metadata": {},
   "source": [
    "## load csv file from local filesystem\n",
    "\n",
    "```bash\n",
    "touch  src/load_from_local.rs\n",
    "\n",
    "```\n",
    "\n",
    "\n",
    "\n",
    "```rust\n",
    "// src/load_from_local.rs\n",
    "use std::fs;\n",
    "\n",
    "pub mod parser;\n",
    "\n",
    "fn main() {\n",
    "    println!(\"Hello, world!\");\n",
    "\n",
    "    // Grab JSON file\n",
    "    let file_path = \"data/test.json\".to_owned();\n",
    "    let contents = fs::read_to_string(file_path).expect(\"Couldn't find or load that file.\");\n",
    "\n",
    "    parser::untyped_example(&contents);\n",
    "}\n",
    "\n",
    "```"
   ]
  }
 ],
 "metadata": {
  "language_info": {
   "name": "python"
  }
 },
 "nbformat": 4,
 "nbformat_minor": 2
}
